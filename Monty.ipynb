{
 "cells": [
  {
   "cell_type": "code",
   "execution_count": 1,
   "metadata": {},
   "outputs": [],
   "source": [
    "import random\n",
    "import pandas as pd\n",
    "import matplotlib as mpl\n",
    "import matplotlib.pyplot as plt\n",
    "%matplotlib inline\n",
    "mpl.rcParams['figure.figsize'] = (10,6)\n",
    "\n",
    "random.seed(123)"
   ]
  },
  {
   "cell_type": "code",
   "execution_count": 2,
   "metadata": {
    "collapsed": true
   },
   "outputs": [],
   "source": [
    "number_of_wins = []\n",
    "number_of_simulations = range(500)\n",
    "door_numbers = set(range(3))\n",
    "switch_wins = []\n",
    "stay_wins = []\n",
    "\n",
    "for i in number_of_simulations:\n",
    "    car_door = random.randint(0,2)\n",
    "    contestant_first_choice = random.randint(0,2)\n",
    "    \n",
    "    if car_door == contestant_first_choice:\n",
    "        switch_wins.append(0)\n",
    "        stay_wins.append(1)\n",
    "    \n",
    "    if car_door != contestant_first_choice:\n",
    "        switch_wins.append(1)\n",
    "        stay_wins.append(0)"
   ]
  },
  {
   "cell_type": "code",
   "execution_count": 3,
   "metadata": {},
   "outputs": [
    {
     "data": {
      "text/html": [
       "<div>\n",
       "<style>\n",
       "    .dataframe thead tr:only-child th {\n",
       "        text-align: right;\n",
       "    }\n",
       "\n",
       "    .dataframe thead th {\n",
       "        text-align: left;\n",
       "    }\n",
       "\n",
       "    .dataframe tbody tr th {\n",
       "        vertical-align: top;\n",
       "    }\n",
       "</style>\n",
       "<table border=\"1\" class=\"dataframe\">\n",
       "  <thead>\n",
       "    <tr style=\"text-align: right;\">\n",
       "      <th></th>\n",
       "      <th>stay_wins</th>\n",
       "      <th>switch_wins</th>\n",
       "      <th>plays</th>\n",
       "      <th>cumulative_stay_wins</th>\n",
       "      <th>cumulative_switch_wins</th>\n",
       "      <th>cumulative_plays</th>\n",
       "      <th>cumulative_switch_win_pct</th>\n",
       "      <th>cumulative_stay_win_pct</th>\n",
       "    </tr>\n",
       "  </thead>\n",
       "  <tbody>\n",
       "    <tr>\n",
       "      <th>0</th>\n",
       "      <td>0</td>\n",
       "      <td>1</td>\n",
       "      <td>1</td>\n",
       "      <td>0</td>\n",
       "      <td>1</td>\n",
       "      <td>1</td>\n",
       "      <td>1.0</td>\n",
       "      <td>0.0</td>\n",
       "    </tr>\n",
       "    <tr>\n",
       "      <th>1</th>\n",
       "      <td>0</td>\n",
       "      <td>1</td>\n",
       "      <td>1</td>\n",
       "      <td>0</td>\n",
       "      <td>2</td>\n",
       "      <td>2</td>\n",
       "      <td>1.0</td>\n",
       "      <td>0.0</td>\n",
       "    </tr>\n",
       "    <tr>\n",
       "      <th>2</th>\n",
       "      <td>0</td>\n",
       "      <td>1</td>\n",
       "      <td>1</td>\n",
       "      <td>0</td>\n",
       "      <td>3</td>\n",
       "      <td>3</td>\n",
       "      <td>1.0</td>\n",
       "      <td>0.0</td>\n",
       "    </tr>\n",
       "    <tr>\n",
       "      <th>3</th>\n",
       "      <td>0</td>\n",
       "      <td>1</td>\n",
       "      <td>1</td>\n",
       "      <td>0</td>\n",
       "      <td>4</td>\n",
       "      <td>4</td>\n",
       "      <td>1.0</td>\n",
       "      <td>0.0</td>\n",
       "    </tr>\n",
       "    <tr>\n",
       "      <th>4</th>\n",
       "      <td>0</td>\n",
       "      <td>1</td>\n",
       "      <td>1</td>\n",
       "      <td>0</td>\n",
       "      <td>5</td>\n",
       "      <td>5</td>\n",
       "      <td>1.0</td>\n",
       "      <td>0.0</td>\n",
       "    </tr>\n",
       "  </tbody>\n",
       "</table>\n",
       "</div>"
      ],
      "text/plain": [
       "   stay_wins  switch_wins  plays  cumulative_stay_wins  \\\n",
       "0          0            1      1                     0   \n",
       "1          0            1      1                     0   \n",
       "2          0            1      1                     0   \n",
       "3          0            1      1                     0   \n",
       "4          0            1      1                     0   \n",
       "\n",
       "   cumulative_switch_wins  cumulative_plays  cumulative_switch_win_pct  \\\n",
       "0                       1                 1                        1.0   \n",
       "1                       2                 2                        1.0   \n",
       "2                       3                 3                        1.0   \n",
       "3                       4                 4                        1.0   \n",
       "4                       5                 5                        1.0   \n",
       "\n",
       "   cumulative_stay_win_pct  \n",
       "0                      0.0  \n",
       "1                      0.0  \n",
       "2                      0.0  \n",
       "3                      0.0  \n",
       "4                      0.0  "
      ]
     },
     "execution_count": 3,
     "metadata": {},
     "output_type": "execute_result"
    }
   ],
   "source": [
    "game_results = pd.DataFrame({\n",
    "    \"stay_wins\": stay_wins,\n",
    "    \"switch_wins\": switch_wins,\n",
    "})\n",
    "\n",
    "game_results['plays'] = game_results['stay_wins'] + game_results['switch_wins']\n",
    "game_results['cumulative_stay_wins'] = game_results['stay_wins'].cumsum()\n",
    "game_results['cumulative_switch_wins'] = game_results['switch_wins'].cumsum()\n",
    "game_results['cumulative_plays'] = game_results['plays'].cumsum()\n",
    "game_results['cumulative_switch_win_pct'] = game_results['cumulative_switch_wins'] / game_results['cumulative_plays']\n",
    "game_results['cumulative_stay_win_pct'] = game_results['cumulative_stay_wins'] / game_results['cumulative_plays']\n",
    "\n",
    "game_results.head()"
   ]
  },
  {
   "cell_type": "code",
   "execution_count": 4,
   "metadata": {},
   "outputs": [
    {
     "data": {
      "text/plain": [
       "<matplotlib.axes._subplots.AxesSubplot at 0x10b16c278>"
      ]
     },
     "execution_count": 4,
     "metadata": {},
     "output_type": "execute_result"
    },
    {
     "data": {
      "image/png": "[encoded data removed]",
      "text/plain": [
       "<matplotlib.figure.Figure at 0x10b16c390>"
      ]
     },
     "metadata": {},
     "output_type": "display_data"
    }
   ],
   "source": [
    "fig, ax = plt.subplots(1, 1)\n",
    "game_results.reset_index().plot(x='index', y='cumulative_switch_win_pct', ax=ax, )\n",
    "game_results.reset_index().plot(x='index', y='cumulative_stay_win_pct', ax=ax)"
   ]
  },
  {
   "cell_type": "code",
   "execution_count": 5,
   "metadata": {},
   "outputs": [
    {
     "data": {
      "text/html": [
       "<div>\n",
       "<style>\n",
       "    .dataframe thead tr:only-child th {\n",
       "        text-align: right;\n",
       "    }\n",
       "\n",
       "    .dataframe thead th {\n",
       "        text-align: left;\n",
       "    }\n",
       "\n",
       "    .dataframe tbody tr th {\n",
       "        vertical-align: top;\n",
       "    }\n",
       "</style>\n",
       "<table border=\"1\" class=\"dataframe\">\n",
       "  <thead>\n",
       "    <tr style=\"text-align: right;\">\n",
       "      <th></th>\n",
       "      <th>cumulative_switch_win_pct</th>\n",
       "      <th>cumulative_stay_win_pct</th>\n",
       "    </tr>\n",
       "  </thead>\n",
       "  <tbody>\n",
       "    <tr>\n",
       "      <th>499</th>\n",
       "      <td>0.994</td>\n",
       "      <td>0.006</td>\n",
       "    </tr>\n",
       "  </tbody>\n",
       "</table>\n",
       "</div>"
      ],
      "text/plain": [
       "     cumulative_switch_win_pct  cumulative_stay_win_pct\n",
       "499                      0.994                    0.006"
      ]
     },
     "execution_count": 5,
     "metadata": {},
     "output_type": "execute_result"
    }
   ],
   "source": [
    "game_totals = game_results[['cumulative_switch_win_pct','cumulative_stay_win_pct']].tail(1)\n",
    "game_totals"
   ]
  },
  {
   "cell_type": "code",
   "execution_count": null,
   "metadata": {},
   "outputs": [],
   "source": []
  },
  {
   "cell_type": "code",
   "execution_count": null,
   "metadata": {
    "collapsed": true
   },
   "outputs": [],
   "source": []
  }
 ],
 "metadata": {
  "kernelspec": {
   "display_name": "Python 3",
   "language": "python",
   "name": "python3"
  },
  "language_info": {
   "codemirror_mode": {
    "name": "ipython",
    "version": 3
   },
   "file_extension": ".py",
   "mimetype": "text/x-python",
   "name": "python",
   "nbconvert_exporter": "python",
   "pygments_lexer": "ipython3",
   "version": "3.6.2"
  }
 },
 "nbformat": 4,
 "nbformat_minor": 2
}
